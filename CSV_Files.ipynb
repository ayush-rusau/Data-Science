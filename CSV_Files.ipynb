{
 "cells": [
  {
   "cell_type": "code",
   "execution_count": 6,
   "metadata": {},
   "outputs": [
    {
     "name": "stdout",
     "output_type": "stream",
     "text": [
      "['Year,Institutional_sector_name,Institutional_sector_code,Descriptor,SNA08TRANS,Asset_liability_code,Status,Values\\n', '2008.03,Corporate business enterprises,141,Capital Account Opening balances Produced non-financial assets,LS00000,AN10000,REVISED,225544\\n', '2009.03,Corporate business enterprises,141,Capital Account Opening balances Produced non-financial assets,LS00000,AN10000,REVISED,243315\\n', '2010.03,Corporate business enterprises,141,Capital Account Opening balances Produced non-financial assets,LS00000,AN10000,REVISED,259381\\n', '2011.03,Corporate business enterprises,141,Capital Account Opening balances Produced non-financial assets,LS00000,AN10000,REVISED,262596\\n']\n"
     ]
    }
   ],
   "source": [
    "with open('balance-sheet.csv') as file_obj:\n",
    "    file_data = file_obj.readlines()\n",
    "    \n",
    "print(file_data[:5])"
   ]
  },
  {
   "cell_type": "code",
   "execution_count": 4,
   "metadata": {},
   "outputs": [
    {
     "name": "stdout",
     "output_type": "stream",
     "text": [
      "<class '_csv.reader'>\n"
     ]
    }
   ],
   "source": [
    "import csv\n",
    "with open('year2017.csv') as file_obj:\n",
    "    file_data = csv.reader(file_obj)\n",
    "    print(type(file_data))\n",
    "    for row in file_data:\n",
    "#         print(row)\n",
    "        pass\n",
    "    \n",
    "# print(type(file_data))"
   ]
  },
  {
   "cell_type": "code",
   "execution_count": 10,
   "metadata": {},
   "outputs": [],
   "source": [
    "# if the delimeter of separation is different\n",
    "import csv\n",
    "with open('.....') as file_obj:\n",
    "    file_data = csv.reader(file_obj, delimeter = '|', skipinitialspace=True)\n",
    "    for row in file_data:\n",
    "        print(row)\n",
    "        \n",
    "        "
   ]
  },
  {
   "cell_type": "code",
   "execution_count": null,
   "metadata": {},
   "outputs": [],
   "source": [
    "#creating a 2D list\n",
    "import csv\n",
    "with open(\"year2017.csv\") as file_obj:\n",
    "    file_data =csv.reader(file_obj)\n",
    "    \n",
    "    file_list = list(file_data)"
   ]
  },
  {
   "cell_type": "code",
   "execution_count": 27,
   "metadata": {},
   "outputs": [
    {
     "name": "stdout",
     "output_type": "stream",
     "text": [
      "26445\n"
     ]
    }
   ],
   "source": [
    "import csv\n",
    "with open(\"year2017.csv\") as file_obj:\n",
    "    file_list = list(csv.reader(file_obj, skipinitialspace = True))\n",
    "killed = []\n",
    "# print(file_list[0][9])\n",
    "for row in file_list[1:]:\n",
    "    if(len(row[9]) != 0) :\n",
    "        killed.append(float(row[9]))\n",
    "print(int(sum(killed)))"
   ]
  },
  {
   "cell_type": "code",
   "execution_count": 29,
   "metadata": {},
   "outputs": [
    {
     "name": "stdout",
     "output_type": "stream",
     "text": [
      "24927\n"
     ]
    }
   ],
   "source": [
    "## Open and read data file as specified in the question\n",
    "## Print the required output in given format\n",
    "\n",
    "import csv\n",
    "with open(\"year2017.csv\") as file_obj:\n",
    "    file_list = list(csv.reader(file_obj, skipinitialspace=True))\n",
    "    \n",
    "wounded = []\n",
    "for i in file_list[1:]:\n",
    "    if(len(i[10]) != 0):\n",
    "        wounded.append(float(i[10]))\n",
    "print(int(sum(wounded)))\n"
   ]
  },
  {
   "cell_type": "code",
   "execution_count": 35,
   "metadata": {},
   "outputs": [
    {
     "name": "stdout",
     "output_type": "stream",
     "text": [
      "702\n"
     ]
    }
   ],
   "source": [
    "import csv\n",
    "with open(\"year2017.csv\") as file_obj:\n",
    "    file_list = list(csv.reader(file_obj, skipinitialspace = True))\n",
    "wounded = []\n",
    "for i in file_list[1:]:\n",
    "    if(i[3] == \"India\" and len(i[10]) != 0) :\n",
    "        wounded.append(float(i[10]))\n",
    "    \n",
    "print(int(sum(wounded)))"
   ]
  },
  {
   "cell_type": "code",
   "execution_count": 1,
   "metadata": {},
   "outputs": [],
   "source": [
    "# DictReader\n",
    "import csv\n",
    "with open(\"year2017.csv\") as file_obj:\n",
    "    file_data = csv.DictReader(file_obj, skipinitialspace = True)\n",
    "    \n",
    "    for row in file_data:\n",
    "#         print(row)\n",
    "        pass"
   ]
  },
  {
   "cell_type": "code",
   "execution_count": 2,
   "metadata": {},
   "outputs": [],
   "source": [
    "# DictReader\n",
    "import csv\n",
    "with open(\"year2017.csv\") as file_obj:\n",
    "    file_data = csv.DictReader(file_obj, skipinitialspace = True, fieldnames = ['a', 'b', 'c'])\n",
    "    \n",
    "    for row in file_data:\n",
    "#         print(row)\n",
    "        pass"
   ]
  },
  {
   "cell_type": "code",
   "execution_count": 1,
   "metadata": {},
   "outputs": [
    {
     "name": "stdout",
     "output_type": "stream",
     "text": [
      "29280\n"
     ]
    }
   ],
   "source": [
    "## Open and read data file as specified in the question\n",
    "## Print the required output in given format\n",
    "\n",
    "import csv\n",
    "ans = 0\n",
    "with open(\"year2017.csv\") as file_obj:\n",
    "    file_dict= csv.DictReader(file_obj, skipinitialspace = True)\n",
    "#     print(type(file_dict))\n",
    "    for row in file_dict:\n",
    "        # print(row)\n",
    "        if(row['Weapon_type'] == \"Explosives\" and len(row[\"casualities\"]) != 0) :\n",
    "            ans += float(row[\"casualities\"])\n",
    "        # pass\n",
    "print(int(ans))\n",
    "    "
   ]
  },
  {
   "cell_type": "code",
   "execution_count": 7,
   "metadata": {},
   "outputs": [
    {
     "data": {
      "text/plain": [
       "{'Afghanistan': 6092,\n",
       " 'Sudan': 82,\n",
       " 'Democratic Republic of the Congo': 596,\n",
       " 'Turkey': 222,\n",
       " 'Syria': 2026,\n",
       " 'Pakistan': 1076,\n",
       " 'Italy': 0,\n",
       " 'Somalia': 1912,\n",
       " 'Yemen': 762,\n",
       " 'Bahrain': 6,\n",
       " 'Myanmar': 218,\n",
       " 'Burundi': 20,\n",
       " 'Iraq': 6476,\n",
       " 'Egypt': 877,\n",
       " 'Burkina Faso': 53,\n",
       " 'India': 465,\n",
       " 'Algeria': 12,\n",
       " 'United States': 95,\n",
       " 'Philippines': 496,\n",
       " 'Greece': 0,\n",
       " 'Mali': 361,\n",
       " 'Libya': 289,\n",
       " 'Central African Republic': 601,\n",
       " 'Nigeria': 1805,\n",
       " 'Lebanon': 17,\n",
       " 'Mexico': 23,\n",
       " 'Cameroon': 228,\n",
       " 'Ethiopia': 67,\n",
       " 'Kyrgyzstan': 0,\n",
       " 'Serbia': 0,\n",
       " 'Sweden': 5,\n",
       " 'Thailand': 72,\n",
       " 'Iran': 39,\n",
       " 'France': 7,\n",
       " 'United Kingdom': 42,\n",
       " 'West Bank and Gaza Strip': 50,\n",
       " 'Ukraine': 40,\n",
       " 'Paraguay': 4,\n",
       " 'Colombia': 84,\n",
       " 'Malaysia': 4,\n",
       " 'Russia': 61,\n",
       " 'Kosovo': 0,\n",
       " 'South Africa': 21,\n",
       " 'Chile': 0,\n",
       " 'Kenya': 126,\n",
       " 'Israel': 3,\n",
       " 'Saudi Arabia': 31,\n",
       " 'China': 16,\n",
       " 'Nepal': 4,\n",
       " 'Ecuador': 0,\n",
       " 'Niger': 148,\n",
       " 'Venezuela': 5,\n",
       " 'South Sudan': 581,\n",
       " 'Canada': 6,\n",
       " 'Bangladesh': 25,\n",
       " 'Tajikistan': 1,\n",
       " 'Angola': 7,\n",
       " 'Ireland': 0,\n",
       " 'Peru': 8,\n",
       " 'Dominican Republic': 2,\n",
       " 'Poland': 0,\n",
       " 'Jordan': 4,\n",
       " 'Azerbaijan': 5,\n",
       " 'Mozambique': 22,\n",
       " 'Indonesia': 20,\n",
       " 'Germany': 1,\n",
       " 'Brazil': 0,\n",
       " 'Macedonia': 0,\n",
       " 'Tunisia': 5,\n",
       " 'Uganda': 7,\n",
       " 'Chad': 62,\n",
       " 'Finland': 2,\n",
       " 'Australia': 4,\n",
       " 'Norway': 0,\n",
       " 'Vietnam': 0,\n",
       " 'Tanzania': 8,\n",
       " 'Sierra Leone': 0,\n",
       " 'Sri Lanka': 1,\n",
       " 'Maldives': 1,\n",
       " 'Belgium': 2,\n",
       " 'Rwanda': 2,\n",
       " 'Honduras': 2,\n",
       " 'Czech Republic': 0,\n",
       " 'Malta': 1,\n",
       " 'Gabon': 0,\n",
       " 'Laos': 1,\n",
       " 'Djibouti': 0,\n",
       " 'Austria': 2,\n",
       " 'Zambia': 0,\n",
       " 'Argentina': 0,\n",
       " 'Papua New Guinea': 0,\n",
       " 'Zimbabwe': 0,\n",
       " 'Ivory Coast': 3,\n",
       " 'Spain': 21,\n",
       " 'Taiwan': 0,\n",
       " 'Jamaica': 0,\n",
       " 'Albania': 0,\n",
       " 'Liberia': 0,\n",
       " 'Georgia': 0,\n",
       " 'Malawi': 0,\n",
       " 'Netherlands': 0,\n",
       " 'Latvia': 0}"
      ]
     },
     "execution_count": 7,
     "metadata": {},
     "output_type": "execute_result"
    }
   ],
   "source": [
    "import csv\n",
    "with open(\"year2017.csv\") as file_obj:\n",
    "    file_dict = csv.DictReader(file_obj, skipinitialspace = True)\n",
    "    \n",
    "    file_list = list(file_dict)\n",
    "\n",
    "country_killed = {}\n",
    "for row in file_list:\n",
    "    key = row['Country']\n",
    "    value = row['Killed']\n",
    "    \n",
    "    if(value != '') :\n",
    "        value = int(float(value))\n",
    "    else :\n",
    "        value = 0\n",
    "    \n",
    "    if(key in country_killed):\n",
    "        country_killed[key] += value\n",
    "    else :\n",
    "        country_killed[key] = value\n",
    "country_killed"
   ]
  },
  {
   "cell_type": "code",
   "execution_count": 10,
   "metadata": {},
   "outputs": [
    {
     "data": {
      "text/plain": [
       "{'1': 2275,\n",
       " '2': 2027,\n",
       " '3': 2463,\n",
       " '4': 2142,\n",
       " '5': 2936,\n",
       " '6': 2506,\n",
       " '7': 2228,\n",
       " '8': 2145,\n",
       " '9': 1764,\n",
       " '10': 2580,\n",
       " '11': 2014,\n",
       " '12': 1365}"
      ]
     },
     "execution_count": 10,
     "metadata": {},
     "output_type": "execute_result"
    }
   ],
   "source": [
    "import csv\n",
    "with open(\"year2017.csv\") as file_obj:\n",
    "    file_dict = csv.DictReader(file_obj, skipinitialspace = True)\n",
    "    \n",
    "    file_list = list(file_dict)\n",
    "\n",
    "country_killed = {}\n",
    "for row in file_list:\n",
    "    key = row['Month']\n",
    "    value = row['Killed']\n",
    "    \n",
    "    if(value != '') :\n",
    "        value = int(float(value))\n",
    "    else :\n",
    "        value = 0\n",
    "    \n",
    "    if(key in country_killed):\n",
    "        country_killed[key] += value\n",
    "    else :\n",
    "        country_killed[key] = value\n",
    "country_killed"
   ]
  },
  {
   "cell_type": "code",
   "execution_count": 36,
   "metadata": {
    "scrolled": true
   },
   "outputs": [
    {
     "name": "stdout",
     "output_type": "stream",
     "text": [
      "66 1856\n"
     ]
    }
   ],
   "source": [
    "import csv\n",
    "us = 0\n",
    "ind = 0\n",
    "with open('amazon_jobs_dataset.csv') as file_obj:\n",
    "    file_data = csv.reader(file_obj)\n",
    "    \n",
    "    for row in file_data:\n",
    "        if(row[2] == \"US, WA, Seattle \"):\n",
    "            us+=1\n",
    "        elif(row[2] == \"IN, KA, Bangalore \"):\n",
    "            ind+=1\n",
    "print(str(ind) + \" \" + str(us))\n",
    "    \n"
   ]
  },
  {
   "cell_type": "code",
   "execution_count": 42,
   "metadata": {},
   "outputs": [
    {
     "name": "stdout",
     "output_type": "stream",
     "text": [
      "61\n"
     ]
    }
   ],
   "source": [
    "import csv\n",
    "count = 0\n",
    "with open('amazon_jobs_dataset.csv') as file_obj:\n",
    "    file_data = csv.reader(file_obj)\n",
    "    \n",
    "    for row in file_data:\n",
    "        if(row[1] == \"Software Development Engineer \"):\n",
    "            count+=1\n",
    "        elif(row[1] == \"Software Development Manager - Amazon Cloud Cam\"):\n",
    "            count+=1\n",
    "        elif(row[1] == \"Senior Applied Robotics Scientist\"):\n",
    "            count += 1\n",
    "        elif(row[1] == \"Software Development Engineer - Data Engineering\"):\n",
    "            count += 1\n",
    "print(count)\n",
    "    \n"
   ]
  },
  {
   "cell_type": "code",
   "execution_count": 56,
   "metadata": {},
   "outputs": [
    {
     "name": "stdout",
     "output_type": "stream",
     "text": [
      "January 907\n"
     ]
    }
   ],
   "source": [
    "import csv\n",
    "mappy = {}\n",
    "with open(\"amazon_jobs_dataset.csv\") as file_obj:\n",
    "    file_data = csv.reader(file_obj)\n",
    "    fileList = list(file_data)\n",
    "    for row in fileList[1:]:\n",
    "        field = row[3]\n",
    "        li = field.split()\n",
    "        key = li[0]\n",
    "#         print(li[2])\n",
    "        if(li[2] != '2018'):\n",
    "            continue;\n",
    "        if(key in mappy) :\n",
    "            mappy[key] += 1\n",
    "        else:\n",
    "            mappy[key] = 1\n",
    "            \n",
    "max = 0\n",
    "ans = \"\"\n",
    "for i in mappy:\n",
    "    if(max<mappy[i]):\n",
    "        max = mappy[i]\n",
    "        ans = i;\n",
    "        \n",
    "print(ans, end = \" \")\n",
    "print(mappy[ans])"
   ]
  },
  {
   "cell_type": "code",
   "execution_count": 67,
   "metadata": {
    "scrolled": true
   },
   "outputs": [
    {
     "name": "stdout",
     "output_type": "stream",
     "text": [
      "156\n"
     ]
    }
   ],
   "source": [
    "import csv\n",
    "count = 0\n",
    "with open(\"amazon_jobs_dataset.csv\") as file_obj:\n",
    "    reader = csv.reader(file_obj)\n",
    "    file_list = []\n",
    "    for row in reader:\n",
    "        file_list.append(row[2])\n",
    "        \n",
    "for i in file_list[1:]:\n",
    "    field = i.split()\n",
    "    if(len(field) == 0) :\n",
    "        continue;\n",
    "    if(field[0] == 'CA,'):\n",
    "        count += 1\n",
    "    \n",
    "print(count)"
   ]
  },
  {
   "cell_type": "code",
   "execution_count": 68,
   "metadata": {},
   "outputs": [],
   "source": [
    "import csv\n",
    "import re\n",
    "count = 0\n",
    "with open(\"amazon_jobs_dataset.csv\") as file_obj:\n",
    "    reader = csv.reader(file_obj)\n",
    "    file_list = []\n",
    "    for row in reader:\n",
    "        file_list.append(row[5])\n",
    "        \n",
    "for i in file_list[1:0]:\n",
    "    words= re.split()"
   ]
  },
  {
   "cell_type": "code",
   "execution_count": 104,
   "metadata": {
    "collapsed": true
   },
   "outputs": [
    {
     "name": "stdout",
     "output_type": "stream",
     "text": [
      "US 1838\n",
      "1838\n"
     ]
    }
   ],
   "source": [
    "import csv\n",
    "import re\n",
    "count = 0\n",
    "with open(\"amazon_jobs_dataset.csv\") as file_obj:\n",
    "    dictReader = csv.DictReader(file_obj)\n",
    "    file_list = list(dictReader)\n",
    "    \n",
    "mappy = {}\n",
    "for row in file_list:\n",
    "    field = row['location'];\n",
    "#     print(type(field))\n",
    "    if(len(field) == 0) :\n",
    "        continue;\n",
    "    li = field.split(\", \")\n",
    "    key = li[0]\n",
    "    field = row['BASIC QUALIFICATIONS']\n",
    "    field = field.replace(\".\", \" \")\n",
    "    field = field.replace(\"/\", \" \")\n",
    "    field = field.replace(\",\", \" \")\n",
    "    field = field.replace(\"|\", \" \")\n",
    "    field = field.replace(\"(\", \" \")\n",
    "    field = field.replace(\")\", \" \")\n",
    "    field = field.replace(\":\", \" \")\n",
    "#     print(field)\n",
    "    li = field.split()\n",
    "    sets = set(li)\n",
    "    if(\"Java\" in sets):\n",
    "        if(key == \"US\"):\n",
    "            count += 1\n",
    "        if(key in mappy):\n",
    "            mappy[key] += 1\n",
    "        else :\n",
    "            mappy[key] = 1\n",
    "ans = \"\"\n",
    "max = 0\n",
    "for i in mappy:\n",
    "    if mappy[i] > max:\n",
    "        max = mappy[i]\n",
    "        ans = i\n",
    "        \n",
    "print(ans, end = \" \")\n",
    "print(max)\n",
    "# print(count)\n",
    "# mappy\n",
    "    "
   ]
  },
  {
   "cell_type": "code",
   "execution_count": 105,
   "metadata": {},
   "outputs": [
    {
     "name": "stdout",
     "output_type": "stream",
     "text": [
      "64\n"
     ]
    }
   ],
   "source": [
    "import csv\n",
    "count = 0\n",
    "with open(\"amazon_jobs_dataset.csv\") as file_obj:\n",
    "    dictReader = csv.DictReader(file_obj)\n",
    "    \n",
    "    file_list = list(dictReader)\n",
    "    \n",
    "for row in file_list:\n",
    "    field = row['BASIC QUALIFICATIONS']\n",
    "    li = field.split()\n",
    "    sets = set(li)\n",
    "    if(\"computer\" in sets and \"vision\" in sets):\n",
    "        count += 1\n",
    "    elif(\"Computer\" in sets and \"Vision\" in sets):\n",
    "        count += 1\n",
    "    elif(\"Computer\" in sets and \"vision\" in sets):\n",
    "        count += 1\n",
    "    elif(\"computer\" in sets and \"Vision\" in sets):\n",
    "        count += 1\n",
    "print(count)"
   ]
  },
  {
   "cell_type": "code",
   "execution_count": 117,
   "metadata": {},
   "outputs": [
    {
     "data": {
      "text/plain": [
       "[30, 'Python']"
      ]
     },
     "execution_count": 117,
     "metadata": {},
     "output_type": "execute_result"
    }
   ],
   "source": [
    "import csv\n",
    "basicQ =[]\n",
    "with open(\"amazon_jobs_dataset.csv\") as file_obj:\n",
    "    reader = csv.DictReader(file_obj)\n",
    "    for row in reader:\n",
    "        basicQ.append([row['location'], row['BASIC QUALIFICATIONS']])\n",
    "        \n",
    "indiaList = []\n",
    "for i in basicQ:\n",
    "    if i[0].split(',')[0] == \"IN\":\n",
    "        indiaList.append(i[1])\n",
    "        \n",
    "# print(indiaList)\n",
    "bachelor = []\n",
    "for i in indiaList:\n",
    "    if 'Bachelor' in i or 'BS' in i or 'BA' in i:\n",
    "        bachelor.append(i)\n",
    "        \n",
    "# print (bachelor)\n",
    "\n",
    "def getDev(arr, lang) :\n",
    "    output = []\n",
    "    for i in arr:\n",
    "        if(lang in i):\n",
    "            output.append(i)\n",
    "    return output\n",
    "\n",
    "java = [len(getDev(bachelor, \"Java\")), \"Java\"]\n",
    "cpp = [len(getDev(bachelor, 'C++')), 'C++']\n",
    "py = [len(getDev(bachelor, 'Python')), 'Python']\n",
    "java\n",
    "cpp\n",
    "py\n",
    "# maximum = max(java, cpp, py)\n",
    "# print(maximum[1], maximum[0])\n",
    "        \n",
    "        "
   ]
  },
  {
   "cell_type": "code",
   "execution_count": 130,
   "metadata": {},
   "outputs": [
    {
     "name": "stdout",
     "output_type": "stream",
     "text": [
      "14\n"
     ]
    }
   ],
   "source": [
    "import csv\n",
    "count = 0\n",
    "with open(\"amazon_jobs_dataset.csv\") as file_obj:\n",
    "    file_dict = csv.DictReader(file_obj, skipinitialspace = True)\n",
    "    for row in file_dict:\n",
    "        if(\"Computer Vision\" in row[\"Title\"]):\n",
    "            count += 1\n",
    "            \n",
    "print(count)\n"
   ]
  },
  {
   "cell_type": "code",
   "execution_count": null,
   "metadata": {},
   "outputs": [],
   "source": []
  }
 ],
 "metadata": {
  "kernelspec": {
   "display_name": "Python 3",
   "language": "python",
   "name": "python3"
  },
  "language_info": {
   "codemirror_mode": {
    "name": "ipython",
    "version": 3
   },
   "file_extension": ".py",
   "mimetype": "text/x-python",
   "name": "python",
   "nbconvert_exporter": "python",
   "pygments_lexer": "ipython3",
   "version": "3.7.3"
  }
 },
 "nbformat": 4,
 "nbformat_minor": 2
}
