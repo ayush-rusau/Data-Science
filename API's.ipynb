{
 "cells": [
  {
   "cell_type": "code",
   "execution_count": 3,
   "metadata": {},
   "outputs": [],
   "source": [
    "# https://api.github.com/events\n",
    "# https://dog.ceo/api/breeds/list/all"
   ]
  },
  {
   "cell_type": "code",
   "execution_count": 23,
   "metadata": {},
   "outputs": [
    {
     "name": "stdout",
     "output_type": "stream",
     "text": [
      "200\n",
      "utf-8\n",
      "https://api.github.com/events\n",
      "<class 'requests.structures.CaseInsensitiveDict'>\n",
      "Sat, 03 Aug 2019 13:58:54 GMT\n",
      "application/json; charset=utf-8\n"
     ]
    }
   ],
   "source": [
    "import requests\n",
    "response = requests.get('https://api.github.com/events')\n",
    "print(response.status_code)\n",
    "print(response.encoding)\n",
    "# print(response.text)\n",
    "print(response.url)\n",
    "print(type(response.headers))\n",
    "header_info = response.headers\n",
    "print(header_info['Date'])\n",
    "print(header_info['Content-type'])"
   ]
  },
  {
   "cell_type": "code",
   "execution_count": 26,
   "metadata": {},
   "outputs": [
    {
     "name": "stdout",
     "output_type": "stream",
     "text": [
      "200\n"
     ]
    }
   ],
   "source": [
    "response = requests.get('http://api.open-notify.org/iss-now.json')\n",
    "print(response.status_code)"
   ]
  },
  {
   "cell_type": "markdown",
   "metadata": {},
   "source": [
    "## JSON to python"
   ]
  },
  {
   "cell_type": "code",
   "execution_count": 30,
   "metadata": {},
   "outputs": [
    {
     "name": "stdout",
     "output_type": "stream",
     "text": [
      "<class 'dict'>\n",
      "Mohit\n"
     ]
    }
   ],
   "source": [
    "# data type conversion from JSON to python\n",
    "import json\n",
    "json_data = '{\"Student\" : \"Mohit\"}'\n",
    "python_data = json.loads(json_data)\n",
    "print(type(python_data))\n",
    "print(python_data['Student'])"
   ]
  },
  {
   "cell_type": "code",
   "execution_count": 33,
   "metadata": {},
   "outputs": [
    {
     "name": "stdout",
     "output_type": "stream",
     "text": [
      "101\n"
     ]
    }
   ],
   "source": [
    "json_data = '{\"roll_number\" : 101}'\n",
    "python_data = json.loads(json_data)\n",
    "print(python_data['roll_number'])"
   ]
  },
  {
   "cell_type": "code",
   "execution_count": 38,
   "metadata": {},
   "outputs": [
    {
     "name": "stdout",
     "output_type": "stream",
     "text": [
      "101\n",
      "Mohit\n"
     ]
    }
   ],
   "source": [
    "json_data = '{\"Student\" : {\"Name\" : \"Mohit\", \"Roll_no\" : 101}}'\n",
    "python_data = json.loads(json_data)\n",
    "student_details = python_data['Student']\n",
    "print(student_details['Roll_no'])\n",
    "print(student_details['Name'])"
   ]
  },
  {
   "cell_type": "code",
   "execution_count": 39,
   "metadata": {},
   "outputs": [
    {
     "name": "stdout",
     "output_type": "stream",
     "text": [
      "['apple', 'Orange', 'mango']\n"
     ]
    }
   ],
   "source": [
    "json_data = '{\"Fruits\":[\"apple\", \"Orange\", \"mango\"]}'\n",
    "python_data = json.loads(json_data)\n",
    "print(python_data['Fruits'])"
   ]
  }
 ],
 "metadata": {
  "kernelspec": {
   "display_name": "Python 3",
   "language": "python",
   "name": "python3"
  },
  "language_info": {
   "codemirror_mode": {
    "name": "ipython",
    "version": 3
   },
   "file_extension": ".py",
   "mimetype": "text/x-python",
   "name": "python",
   "nbconvert_exporter": "python",
   "pygments_lexer": "ipython3",
   "version": "3.7.3"
  }
 },
 "nbformat": 4,
 "nbformat_minor": 2
}
